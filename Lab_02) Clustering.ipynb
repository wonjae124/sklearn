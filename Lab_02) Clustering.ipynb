{
 "cells": [
  {
   "cell_type": "markdown",
   "metadata": {
    "colab_type": "text",
    "id": "kxmD9kYf4CPV"
   },
   "source": [
    "# Lab_02 군집화\n",
    "\n",
    "### Context\n",
    "#### Clustering\n",
    "+ k-means Clustering\n",
    "+ Hierarchical Clustering\n",
    "\n",
    "#### Evaluation\n",
    "+ Silhouette"
   ]
  },
  {
   "cell_type": "code",
   "execution_count": 3,
   "metadata": {},
   "outputs": [],
   "source": [
    "import os\n",
    "from os.path import join\n",
    "import copy\n",
    "import warnings\n",
    "warnings.filterwarnings('ignore')\n",
    "\n",
    "import numpy as np\n",
    "import pandas as pd\n",
    "\n",
    "import sklearn\n",
    "\n",
    "import matplotlib.pyplot as plt"
   ]
  },
  {
   "cell_type": "code",
   "execution_count": 21,
   "metadata": {},
   "outputs": [
    {
     "name": "stdout",
     "output_type": "stream",
     "text": [
      "{'data': array([[1.423e+01, 1.710e+00, 2.430e+00, ..., 1.040e+00, 3.920e+00,\n",
      "        1.065e+03],\n",
      "       [1.320e+01, 1.780e+00, 2.140e+00, ..., 1.050e+00, 3.400e+00,\n",
      "        1.050e+03],\n",
      "       [1.316e+01, 2.360e+00, 2.670e+00, ..., 1.030e+00, 3.170e+00,\n",
      "        1.185e+03],\n",
      "       ...,\n",
      "       [1.327e+01, 4.280e+00, 2.260e+00, ..., 5.900e-01, 1.560e+00,\n",
      "        8.350e+02],\n",
      "       [1.317e+01, 2.590e+00, 2.370e+00, ..., 6.000e-01, 1.620e+00,\n",
      "        8.400e+02],\n",
      "       [1.413e+01, 4.100e+00, 2.740e+00, ..., 6.100e-01, 1.600e+00,\n",
      "        5.600e+02]]), 'target': array([0, 0, 0, 0, 0, 0, 0, 0, 0, 0, 0, 0, 0, 0, 0, 0, 0, 0, 0, 0, 0, 0,\n",
      "       0, 0, 0, 0, 0, 0, 0, 0, 0, 0, 0, 0, 0, 0, 0, 0, 0, 0, 0, 0, 0, 0,\n",
      "       0, 0, 0, 0, 0, 0, 0, 0, 0, 0, 0, 0, 0, 0, 0, 1, 1, 1, 1, 1, 1, 1,\n",
      "       1, 1, 1, 1, 1, 1, 1, 1, 1, 1, 1, 1, 1, 1, 1, 1, 1, 1, 1, 1, 1, 1,\n",
      "       1, 1, 1, 1, 1, 1, 1, 1, 1, 1, 1, 1, 1, 1, 1, 1, 1, 1, 1, 1, 1, 1,\n",
      "       1, 1, 1, 1, 1, 1, 1, 1, 1, 1, 1, 1, 1, 1, 1, 1, 1, 1, 1, 1, 2, 2,\n",
      "       2, 2, 2, 2, 2, 2, 2, 2, 2, 2, 2, 2, 2, 2, 2, 2, 2, 2, 2, 2, 2, 2,\n",
      "       2, 2, 2, 2, 2, 2, 2, 2, 2, 2, 2, 2, 2, 2, 2, 2, 2, 2, 2, 2, 2, 2,\n",
      "       2, 2]), 'frame': None, 'target_names': array(['class_0', 'class_1', 'class_2'], dtype='<U7'), 'DESCR': '.. _wine_dataset:\\n\\nWine recognition dataset\\n------------------------\\n\\n**Data Set Characteristics:**\\n\\n    :Number of Instances: 178 (50 in each of three classes)\\n    :Number of Attributes: 13 numeric, predictive attributes and the class\\n    :Attribute Information:\\n \\t\\t- Alcohol\\n \\t\\t- Malic acid\\n \\t\\t- Ash\\n\\t\\t- Alcalinity of ash  \\n \\t\\t- Magnesium\\n\\t\\t- Total phenols\\n \\t\\t- Flavanoids\\n \\t\\t- Nonflavanoid phenols\\n \\t\\t- Proanthocyanins\\n\\t\\t- Color intensity\\n \\t\\t- Hue\\n \\t\\t- OD280/OD315 of diluted wines\\n \\t\\t- Proline\\n\\n    - class:\\n            - class_0\\n            - class_1\\n            - class_2\\n\\t\\t\\n    :Summary Statistics:\\n    \\n    ============================= ==== ===== ======= =====\\n                                   Min   Max   Mean     SD\\n    ============================= ==== ===== ======= =====\\n    Alcohol:                      11.0  14.8    13.0   0.8\\n    Malic Acid:                   0.74  5.80    2.34  1.12\\n    Ash:                          1.36  3.23    2.36  0.27\\n    Alcalinity of Ash:            10.6  30.0    19.5   3.3\\n    Magnesium:                    70.0 162.0    99.7  14.3\\n    Total Phenols:                0.98  3.88    2.29  0.63\\n    Flavanoids:                   0.34  5.08    2.03  1.00\\n    Nonflavanoid Phenols:         0.13  0.66    0.36  0.12\\n    Proanthocyanins:              0.41  3.58    1.59  0.57\\n    Colour Intensity:              1.3  13.0     5.1   2.3\\n    Hue:                          0.48  1.71    0.96  0.23\\n    OD280/OD315 of diluted wines: 1.27  4.00    2.61  0.71\\n    Proline:                       278  1680     746   315\\n    ============================= ==== ===== ======= =====\\n\\n    :Missing Attribute Values: None\\n    :Class Distribution: class_0 (59), class_1 (71), class_2 (48)\\n    :Creator: R.A. Fisher\\n    :Donor: Michael Marshall (MARSHALL%PLU@io.arc.nasa.gov)\\n    :Date: July, 1988\\n\\nThis is a copy of UCI ML Wine recognition datasets.\\nhttps://archive.ics.uci.edu/ml/machine-learning-databases/wine/wine.data\\n\\nThe data is the results of a chemical analysis of wines grown in the same\\nregion in Italy by three different cultivators. There are thirteen different\\nmeasurements taken for different constituents found in the three types of\\nwine.\\n\\nOriginal Owners: \\n\\nForina, M. et al, PARVUS - \\nAn Extendible Package for Data Exploration, Classification and Correlation. \\nInstitute of Pharmaceutical and Food Analysis and Technologies,\\nVia Brigata Salerno, 16147 Genoa, Italy.\\n\\nCitation:\\n\\nLichman, M. (2013). UCI Machine Learning Repository\\n[https://archive.ics.uci.edu/ml]. Irvine, CA: University of California,\\nSchool of Information and Computer Science. \\n\\n.. topic:: References\\n\\n  (1) S. Aeberhard, D. Coomans and O. de Vel, \\n  Comparison of Classifiers in High Dimensional Settings, \\n  Tech. Rep. no. 92-02, (1992), Dept. of Computer Science and Dept. of  \\n  Mathematics and Statistics, James Cook University of North Queensland. \\n  (Also submitted to Technometrics). \\n\\n  The data was used with many others for comparing various \\n  classifiers. The classes are separable, though only RDA \\n  has achieved 100% correct classification. \\n  (RDA : 100%, QDA 99.4%, LDA 98.9%, 1NN 96.1% (z-transformed data)) \\n  (All results using the leave-one-out technique) \\n\\n  (2) S. Aeberhard, D. Coomans and O. de Vel, \\n  \"THE CLASSIFICATION PERFORMANCE OF RDA\" \\n  Tech. Rep. no. 92-01, (1992), Dept. of Computer Science and Dept. of \\n  Mathematics and Statistics, James Cook University of North Queensland. \\n  (Also submitted to Journal of Chemometrics).\\n', 'feature_names': ['alcohol', 'malic_acid', 'ash', 'alcalinity_of_ash', 'magnesium', 'total_phenols', 'flavanoids', 'nonflavanoid_phenols', 'proanthocyanins', 'color_intensity', 'hue', 'od280/od315_of_diluted_wines', 'proline']}\n",
      "<class 'sklearn.utils.Bunch'>\n"
     ]
    }
   ],
   "source": [
    "from sklearn.datasets import load_wine\n",
    "wine = load_wine()\n",
    "print(wine)\n"
   ]
  },
  {
   "cell_type": "code",
   "execution_count": 22,
   "metadata": {},
   "outputs": [
    {
     "name": "stdout",
     "output_type": "stream",
     "text": [
      "<class 'sklearn.utils.Bunch'>\n"
     ]
    }
   ],
   "source": [
    "print(type(wine))"
   ]
  },
  {
   "cell_type": "markdown",
   "metadata": {},
   "source": [
    "이번 군집화 실습을 위해 sklearn 내장 데이터인 와인 데이터를 불러오겠습니다.<br>\n",
    "와인 데이터셋은 알콜, 말산, 페놀 등 13개의 변수를 가지고 있으며, 1,2,3 와인 등급을 라벨 데이터로 가지고 있습니다."
   ]
  },
  {
   "cell_type": "code",
   "execution_count": 14,
   "metadata": {
    "scrolled": true
   },
   "outputs": [
    {
     "name": "stdout",
     "output_type": "stream",
     "text": [
      ".. _wine_dataset:\n",
      "\n",
      "Wine recognition dataset\n",
      "------------------------\n",
      "\n",
      "**Data Set Characteristics:**\n",
      "\n",
      "    :Number of Instances: 178 (50 in each of three classes)\n",
      "    :Number of Attributes: 13 numeric, predictive attributes and the class\n",
      "    :Attribute Information:\n",
      " \t\t- Alcohol\n",
      " \t\t- Malic acid\n",
      " \t\t- Ash\n",
      "\t\t- Alcalinity of ash  \n",
      " \t\t- Magnesium\n",
      "\t\t- Total phenols\n",
      " \t\t- Flavanoids\n",
      " \t\t- Nonflavanoid phenols\n",
      " \t\t- Proanthocyanins\n",
      "\t\t- Color intensity\n",
      " \t\t- Hue\n",
      " \t\t- OD280/OD315 of diluted wines\n",
      " \t\t- Proline\n",
      "\n",
      "    - class:\n",
      "            - class_0\n",
      "            - class_1\n",
      "            - class_2\n",
      "\t\t\n",
      "    :Summary Statistics:\n",
      "    \n",
      "    ============================= ==== ===== ======= =====\n",
      "                                   Min   Max   Mean     SD\n",
      "    ============================= ==== ===== ======= =====\n",
      "    Alcohol:                      11.0  14.8    13.0   0.8\n",
      "    Malic Acid:                   0.74  5.80    2.34  1.12\n",
      "    Ash:                          1.36  3.23    2.36  0.27\n",
      "    Alcalinity of Ash:            10.6  30.0    19.5   3.3\n",
      "    Magnesium:                    70.0 162.0    99.7  14.3\n",
      "    Total Phenols:                0.98  3.88    2.29  0.63\n",
      "    Flavanoids:                   0.34  5.08    2.03  1.00\n",
      "    Nonflavanoid Phenols:         0.13  0.66    0.36  0.12\n",
      "    Proanthocyanins:              0.41  3.58    1.59  0.57\n",
      "    Colour Intensity:              1.3  13.0     5.1   2.3\n",
      "    Hue:                          0.48  1.71    0.96  0.23\n",
      "    OD280/OD315 of diluted wines: 1.27  4.00    2.61  0.71\n",
      "    Proline:                       278  1680     746   315\n",
      "    ============================= ==== ===== ======= =====\n",
      "\n",
      "    :Missing Attribute Values: None\n",
      "    :Class Distribution: class_0 (59), class_1 (71), class_2 (48)\n",
      "    :Creator: R.A. Fisher\n",
      "    :Donor: Michael Marshall (MARSHALL%PLU@io.arc.nasa.gov)\n",
      "    :Date: July, 1988\n",
      "\n",
      "This is a copy of UCI ML Wine recognition datasets.\n",
      "https://archive.ics.uci.edu/ml/machine-learning-databases/wine/wine.data\n",
      "\n",
      "The data is the results of a chemical analysis of wines grown in the same\n",
      "region in Italy by three different cultivators. There are thirteen different\n",
      "measurements taken for different constituents found in the three types of\n",
      "wine.\n",
      "\n",
      "Original Owners: \n",
      "\n",
      "Forina, M. et al, PARVUS - \n",
      "An Extendible Package for Data Exploration, Classification and Correlation. \n",
      "Institute of Pharmaceutical and Food Analysis and Technologies,\n",
      "Via Brigata Salerno, 16147 Genoa, Italy.\n",
      "\n",
      "Citation:\n",
      "\n",
      "Lichman, M. (2013). UCI Machine Learning Repository\n",
      "[https://archive.ics.uci.edu/ml]. Irvine, CA: University of California,\n",
      "School of Information and Computer Science. \n",
      "\n",
      ".. topic:: References\n",
      "\n",
      "  (1) S. Aeberhard, D. Coomans and O. de Vel, \n",
      "  Comparison of Classifiers in High Dimensional Settings, \n",
      "  Tech. Rep. no. 92-02, (1992), Dept. of Computer Science and Dept. of  \n",
      "  Mathematics and Statistics, James Cook University of North Queensland. \n",
      "  (Also submitted to Technometrics). \n",
      "\n",
      "  The data was used with many others for comparing various \n",
      "  classifiers. The classes are separable, though only RDA \n",
      "  has achieved 100% correct classification. \n",
      "  (RDA : 100%, QDA 99.4%, LDA 98.9%, 1NN 96.1% (z-transformed data)) \n",
      "  (All results using the leave-one-out technique) \n",
      "\n",
      "  (2) S. Aeberhard, D. Coomans and O. de Vel, \n",
      "  \"THE CLASSIFICATION PERFORMANCE OF RDA\" \n",
      "  Tech. Rep. no. 92-01, (1992), Dept. of Computer Science and Dept. of \n",
      "  Mathematics and Statistics, James Cook University of North Queensland. \n",
      "  (Also submitted to Journal of Chemometrics).\n",
      "\n"
     ]
    }
   ],
   "source": [
    "#decription\n",
    "print(wine.DESCR)"
   ]
  },
  {
   "cell_type": "code",
   "execution_count": 15,
   "metadata": {},
   "outputs": [],
   "source": [
    "data = wine.data #데이타 컬럼\n",
    "label = wine.target #데이타의 레이블임. 목표(Target): 라벨, 타겟값, 목표값이라고도 부르며 입력데이터( 특성 행렬(Feature Matrix))에서 예측하려는 것. 와인의 품종\n",
    "columns = wine.feature_names #feature_names는 특성의 이름이다.(와인의 성분)"
   ]
  },
  {
   "cell_type": "code",
   "execution_count": 18,
   "metadata": {},
   "outputs": [
    {
     "name": "stdout",
     "output_type": "stream",
     "text": [
      "[[1.423e+01 1.710e+00 2.430e+00 ... 1.040e+00 3.920e+00 1.065e+03]\n",
      " [1.320e+01 1.780e+00 2.140e+00 ... 1.050e+00 3.400e+00 1.050e+03]\n",
      " [1.316e+01 2.360e+00 2.670e+00 ... 1.030e+00 3.170e+00 1.185e+03]\n",
      " ...\n",
      " [1.327e+01 4.280e+00 2.260e+00 ... 5.900e-01 1.560e+00 8.350e+02]\n",
      " [1.317e+01 2.590e+00 2.370e+00 ... 6.000e-01 1.620e+00 8.400e+02]\n",
      " [1.413e+01 4.100e+00 2.740e+00 ... 6.100e-01 1.600e+00 5.600e+02]]\n"
     ]
    }
   ],
   "source": [
    "print(data)"
   ]
  },
  {
   "cell_type": "code",
   "execution_count": 19,
   "metadata": {},
   "outputs": [
    {
     "name": "stdout",
     "output_type": "stream",
     "text": [
      "[0 0 0 0 0 0 0 0 0 0 0 0 0 0 0 0 0 0 0 0 0 0 0 0 0 0 0 0 0 0 0 0 0 0 0 0 0\n",
      " 0 0 0 0 0 0 0 0 0 0 0 0 0 0 0 0 0 0 0 0 0 0 1 1 1 1 1 1 1 1 1 1 1 1 1 1 1\n",
      " 1 1 1 1 1 1 1 1 1 1 1 1 1 1 1 1 1 1 1 1 1 1 1 1 1 1 1 1 1 1 1 1 1 1 1 1 1\n",
      " 1 1 1 1 1 1 1 1 1 1 1 1 1 1 1 1 1 1 1 2 2 2 2 2 2 2 2 2 2 2 2 2 2 2 2 2 2\n",
      " 2 2 2 2 2 2 2 2 2 2 2 2 2 2 2 2 2 2 2 2 2 2 2 2 2 2 2 2 2 2]\n"
     ]
    }
   ],
   "source": [
    "print(label)"
   ]
  },
  {
   "cell_type": "code",
   "execution_count": 20,
   "metadata": {},
   "outputs": [
    {
     "name": "stdout",
     "output_type": "stream",
     "text": [
      "['alcohol', 'malic_acid', 'ash', 'alcalinity_of_ash', 'magnesium', 'total_phenols', 'flavanoids', 'nonflavanoid_phenols', 'proanthocyanins', 'color_intensity', 'hue', 'od280/od315_of_diluted_wines', 'proline']\n"
     ]
    }
   ],
   "source": [
    "print(columns)"
   ]
  },
  {
   "cell_type": "code",
   "execution_count": 25,
   "metadata": {},
   "outputs": [
    {
     "data": {
      "text/html": [
       "<div>\n",
       "<style scoped>\n",
       "    .dataframe tbody tr th:only-of-type {\n",
       "        vertical-align: middle;\n",
       "    }\n",
       "\n",
       "    .dataframe tbody tr th {\n",
       "        vertical-align: top;\n",
       "    }\n",
       "\n",
       "    .dataframe thead th {\n",
       "        text-align: right;\n",
       "    }\n",
       "</style>\n",
       "<table border=\"1\" class=\"dataframe\">\n",
       "  <thead>\n",
       "    <tr style=\"text-align: right;\">\n",
       "      <th></th>\n",
       "      <th>alcohol</th>\n",
       "      <th>malic_acid</th>\n",
       "      <th>ash</th>\n",
       "      <th>alcalinity_of_ash</th>\n",
       "      <th>magnesium</th>\n",
       "      <th>total_phenols</th>\n",
       "      <th>flavanoids</th>\n",
       "      <th>nonflavanoid_phenols</th>\n",
       "      <th>proanthocyanins</th>\n",
       "      <th>color_intensity</th>\n",
       "      <th>hue</th>\n",
       "      <th>od280/od315_of_diluted_wines</th>\n",
       "      <th>proline</th>\n",
       "    </tr>\n",
       "  </thead>\n",
       "  <tbody>\n",
       "    <tr>\n",
       "      <th>0</th>\n",
       "      <td>14.23</td>\n",
       "      <td>1.71</td>\n",
       "      <td>2.43</td>\n",
       "      <td>15.6</td>\n",
       "      <td>127.0</td>\n",
       "      <td>2.80</td>\n",
       "      <td>3.06</td>\n",
       "      <td>0.28</td>\n",
       "      <td>2.29</td>\n",
       "      <td>5.64</td>\n",
       "      <td>1.04</td>\n",
       "      <td>3.92</td>\n",
       "      <td>1065.0</td>\n",
       "    </tr>\n",
       "    <tr>\n",
       "      <th>1</th>\n",
       "      <td>13.20</td>\n",
       "      <td>1.78</td>\n",
       "      <td>2.14</td>\n",
       "      <td>11.2</td>\n",
       "      <td>100.0</td>\n",
       "      <td>2.65</td>\n",
       "      <td>2.76</td>\n",
       "      <td>0.26</td>\n",
       "      <td>1.28</td>\n",
       "      <td>4.38</td>\n",
       "      <td>1.05</td>\n",
       "      <td>3.40</td>\n",
       "      <td>1050.0</td>\n",
       "    </tr>\n",
       "    <tr>\n",
       "      <th>2</th>\n",
       "      <td>13.16</td>\n",
       "      <td>2.36</td>\n",
       "      <td>2.67</td>\n",
       "      <td>18.6</td>\n",
       "      <td>101.0</td>\n",
       "      <td>2.80</td>\n",
       "      <td>3.24</td>\n",
       "      <td>0.30</td>\n",
       "      <td>2.81</td>\n",
       "      <td>5.68</td>\n",
       "      <td>1.03</td>\n",
       "      <td>3.17</td>\n",
       "      <td>1185.0</td>\n",
       "    </tr>\n",
       "    <tr>\n",
       "      <th>3</th>\n",
       "      <td>14.37</td>\n",
       "      <td>1.95</td>\n",
       "      <td>2.50</td>\n",
       "      <td>16.8</td>\n",
       "      <td>113.0</td>\n",
       "      <td>3.85</td>\n",
       "      <td>3.49</td>\n",
       "      <td>0.24</td>\n",
       "      <td>2.18</td>\n",
       "      <td>7.80</td>\n",
       "      <td>0.86</td>\n",
       "      <td>3.45</td>\n",
       "      <td>1480.0</td>\n",
       "    </tr>\n",
       "    <tr>\n",
       "      <th>4</th>\n",
       "      <td>13.24</td>\n",
       "      <td>2.59</td>\n",
       "      <td>2.87</td>\n",
       "      <td>21.0</td>\n",
       "      <td>118.0</td>\n",
       "      <td>2.80</td>\n",
       "      <td>2.69</td>\n",
       "      <td>0.39</td>\n",
       "      <td>1.82</td>\n",
       "      <td>4.32</td>\n",
       "      <td>1.04</td>\n",
       "      <td>2.93</td>\n",
       "      <td>735.0</td>\n",
       "    </tr>\n",
       "  </tbody>\n",
       "</table>\n",
       "</div>"
      ],
      "text/plain": [
       "   alcohol  malic_acid   ash  alcalinity_of_ash  magnesium  total_phenols  \\\n",
       "0    14.23        1.71  2.43               15.6      127.0           2.80   \n",
       "1    13.20        1.78  2.14               11.2      100.0           2.65   \n",
       "2    13.16        2.36  2.67               18.6      101.0           2.80   \n",
       "3    14.37        1.95  2.50               16.8      113.0           3.85   \n",
       "4    13.24        2.59  2.87               21.0      118.0           2.80   \n",
       "\n",
       "   flavanoids  nonflavanoid_phenols  proanthocyanins  color_intensity   hue  \\\n",
       "0        3.06                  0.28             2.29             5.64  1.04   \n",
       "1        2.76                  0.26             1.28             4.38  1.05   \n",
       "2        3.24                  0.30             2.81             5.68  1.03   \n",
       "3        3.49                  0.24             2.18             7.80  0.86   \n",
       "4        2.69                  0.39             1.82             4.32  1.04   \n",
       "\n",
       "   od280/od315_of_diluted_wines  proline  \n",
       "0                          3.92   1065.0  \n",
       "1                          3.40   1050.0  \n",
       "2                          3.17   1185.0  \n",
       "3                          3.45   1480.0  \n",
       "4                          2.93    735.0  "
      ]
     },
     "execution_count": 25,
     "metadata": {},
     "output_type": "execute_result"
    }
   ],
   "source": [
    "data = pd.DataFrame(data, columns = columns) #칼럼과 레이블을 이용해서 데이터프레임을 만들 수 있음. 데이터 프레임은 2차원 테이블 데이터\n",
    "data.head()"
   ]
  },
  {
   "cell_type": "code",
   "execution_count": 26,
   "metadata": {},
   "outputs": [
    {
     "data": {
      "text/plain": [
       "(178, 13)"
      ]
     },
     "execution_count": 26,
     "metadata": {},
     "output_type": "execute_result"
    }
   ],
   "source": [
    "data.shape"
   ]
  },
  {
   "cell_type": "code",
   "execution_count": 27,
   "metadata": {},
   "outputs": [
    {
     "data": {
      "text/html": [
       "<div>\n",
       "<style scoped>\n",
       "    .dataframe tbody tr th:only-of-type {\n",
       "        vertical-align: middle;\n",
       "    }\n",
       "\n",
       "    .dataframe tbody tr th {\n",
       "        vertical-align: top;\n",
       "    }\n",
       "\n",
       "    .dataframe thead th {\n",
       "        text-align: right;\n",
       "    }\n",
       "</style>\n",
       "<table border=\"1\" class=\"dataframe\">\n",
       "  <thead>\n",
       "    <tr style=\"text-align: right;\">\n",
       "      <th></th>\n",
       "      <th>alcohol</th>\n",
       "      <th>malic_acid</th>\n",
       "      <th>ash</th>\n",
       "      <th>alcalinity_of_ash</th>\n",
       "      <th>magnesium</th>\n",
       "      <th>total_phenols</th>\n",
       "      <th>flavanoids</th>\n",
       "      <th>nonflavanoid_phenols</th>\n",
       "      <th>proanthocyanins</th>\n",
       "      <th>color_intensity</th>\n",
       "      <th>hue</th>\n",
       "      <th>od280/od315_of_diluted_wines</th>\n",
       "      <th>proline</th>\n",
       "    </tr>\n",
       "  </thead>\n",
       "  <tbody>\n",
       "    <tr>\n",
       "      <th>count</th>\n",
       "      <td>178.000000</td>\n",
       "      <td>178.000000</td>\n",
       "      <td>178.000000</td>\n",
       "      <td>178.000000</td>\n",
       "      <td>178.000000</td>\n",
       "      <td>178.000000</td>\n",
       "      <td>178.000000</td>\n",
       "      <td>178.000000</td>\n",
       "      <td>178.000000</td>\n",
       "      <td>178.000000</td>\n",
       "      <td>178.000000</td>\n",
       "      <td>178.000000</td>\n",
       "      <td>178.000000</td>\n",
       "    </tr>\n",
       "    <tr>\n",
       "      <th>mean</th>\n",
       "      <td>13.000618</td>\n",
       "      <td>2.336348</td>\n",
       "      <td>2.366517</td>\n",
       "      <td>19.494944</td>\n",
       "      <td>99.741573</td>\n",
       "      <td>2.295112</td>\n",
       "      <td>2.029270</td>\n",
       "      <td>0.361854</td>\n",
       "      <td>1.590899</td>\n",
       "      <td>5.058090</td>\n",
       "      <td>0.957449</td>\n",
       "      <td>2.611685</td>\n",
       "      <td>746.893258</td>\n",
       "    </tr>\n",
       "    <tr>\n",
       "      <th>std</th>\n",
       "      <td>0.811827</td>\n",
       "      <td>1.117146</td>\n",
       "      <td>0.274344</td>\n",
       "      <td>3.339564</td>\n",
       "      <td>14.282484</td>\n",
       "      <td>0.625851</td>\n",
       "      <td>0.998859</td>\n",
       "      <td>0.124453</td>\n",
       "      <td>0.572359</td>\n",
       "      <td>2.318286</td>\n",
       "      <td>0.228572</td>\n",
       "      <td>0.709990</td>\n",
       "      <td>314.907474</td>\n",
       "    </tr>\n",
       "    <tr>\n",
       "      <th>min</th>\n",
       "      <td>11.030000</td>\n",
       "      <td>0.740000</td>\n",
       "      <td>1.360000</td>\n",
       "      <td>10.600000</td>\n",
       "      <td>70.000000</td>\n",
       "      <td>0.980000</td>\n",
       "      <td>0.340000</td>\n",
       "      <td>0.130000</td>\n",
       "      <td>0.410000</td>\n",
       "      <td>1.280000</td>\n",
       "      <td>0.480000</td>\n",
       "      <td>1.270000</td>\n",
       "      <td>278.000000</td>\n",
       "    </tr>\n",
       "    <tr>\n",
       "      <th>25%</th>\n",
       "      <td>12.362500</td>\n",
       "      <td>1.602500</td>\n",
       "      <td>2.210000</td>\n",
       "      <td>17.200000</td>\n",
       "      <td>88.000000</td>\n",
       "      <td>1.742500</td>\n",
       "      <td>1.205000</td>\n",
       "      <td>0.270000</td>\n",
       "      <td>1.250000</td>\n",
       "      <td>3.220000</td>\n",
       "      <td>0.782500</td>\n",
       "      <td>1.937500</td>\n",
       "      <td>500.500000</td>\n",
       "    </tr>\n",
       "    <tr>\n",
       "      <th>50%</th>\n",
       "      <td>13.050000</td>\n",
       "      <td>1.865000</td>\n",
       "      <td>2.360000</td>\n",
       "      <td>19.500000</td>\n",
       "      <td>98.000000</td>\n",
       "      <td>2.355000</td>\n",
       "      <td>2.135000</td>\n",
       "      <td>0.340000</td>\n",
       "      <td>1.555000</td>\n",
       "      <td>4.690000</td>\n",
       "      <td>0.965000</td>\n",
       "      <td>2.780000</td>\n",
       "      <td>673.500000</td>\n",
       "    </tr>\n",
       "    <tr>\n",
       "      <th>75%</th>\n",
       "      <td>13.677500</td>\n",
       "      <td>3.082500</td>\n",
       "      <td>2.557500</td>\n",
       "      <td>21.500000</td>\n",
       "      <td>107.000000</td>\n",
       "      <td>2.800000</td>\n",
       "      <td>2.875000</td>\n",
       "      <td>0.437500</td>\n",
       "      <td>1.950000</td>\n",
       "      <td>6.200000</td>\n",
       "      <td>1.120000</td>\n",
       "      <td>3.170000</td>\n",
       "      <td>985.000000</td>\n",
       "    </tr>\n",
       "    <tr>\n",
       "      <th>max</th>\n",
       "      <td>14.830000</td>\n",
       "      <td>5.800000</td>\n",
       "      <td>3.230000</td>\n",
       "      <td>30.000000</td>\n",
       "      <td>162.000000</td>\n",
       "      <td>3.880000</td>\n",
       "      <td>5.080000</td>\n",
       "      <td>0.660000</td>\n",
       "      <td>3.580000</td>\n",
       "      <td>13.000000</td>\n",
       "      <td>1.710000</td>\n",
       "      <td>4.000000</td>\n",
       "      <td>1680.000000</td>\n",
       "    </tr>\n",
       "  </tbody>\n",
       "</table>\n",
       "</div>"
      ],
      "text/plain": [
       "          alcohol  malic_acid         ash  alcalinity_of_ash   magnesium  \\\n",
       "count  178.000000  178.000000  178.000000         178.000000  178.000000   \n",
       "mean    13.000618    2.336348    2.366517          19.494944   99.741573   \n",
       "std      0.811827    1.117146    0.274344           3.339564   14.282484   \n",
       "min     11.030000    0.740000    1.360000          10.600000   70.000000   \n",
       "25%     12.362500    1.602500    2.210000          17.200000   88.000000   \n",
       "50%     13.050000    1.865000    2.360000          19.500000   98.000000   \n",
       "75%     13.677500    3.082500    2.557500          21.500000  107.000000   \n",
       "max     14.830000    5.800000    3.230000          30.000000  162.000000   \n",
       "\n",
       "       total_phenols  flavanoids  nonflavanoid_phenols  proanthocyanins  \\\n",
       "count     178.000000  178.000000            178.000000       178.000000   \n",
       "mean        2.295112    2.029270              0.361854         1.590899   \n",
       "std         0.625851    0.998859              0.124453         0.572359   \n",
       "min         0.980000    0.340000              0.130000         0.410000   \n",
       "25%         1.742500    1.205000              0.270000         1.250000   \n",
       "50%         2.355000    2.135000              0.340000         1.555000   \n",
       "75%         2.800000    2.875000              0.437500         1.950000   \n",
       "max         3.880000    5.080000              0.660000         3.580000   \n",
       "\n",
       "       color_intensity         hue  od280/od315_of_diluted_wines      proline  \n",
       "count       178.000000  178.000000                    178.000000   178.000000  \n",
       "mean          5.058090    0.957449                      2.611685   746.893258  \n",
       "std           2.318286    0.228572                      0.709990   314.907474  \n",
       "min           1.280000    0.480000                      1.270000   278.000000  \n",
       "25%           3.220000    0.782500                      1.937500   500.500000  \n",
       "50%           4.690000    0.965000                      2.780000   673.500000  \n",
       "75%           6.200000    1.120000                      3.170000   985.000000  \n",
       "max          13.000000    1.710000                      4.000000  1680.000000  "
      ]
     },
     "execution_count": 27,
     "metadata": {},
     "output_type": "execute_result"
    }
   ],
   "source": [
    "data.describe()"
   ]
  },
  {
   "cell_type": "code",
   "execution_count": 28,
   "metadata": {},
   "outputs": [
    {
     "name": "stdout",
     "output_type": "stream",
     "text": [
      "<class 'pandas.core.frame.DataFrame'>\n",
      "RangeIndex: 178 entries, 0 to 177\n",
      "Data columns (total 13 columns):\n",
      " #   Column                        Non-Null Count  Dtype  \n",
      "---  ------                        --------------  -----  \n",
      " 0   alcohol                       178 non-null    float64\n",
      " 1   malic_acid                    178 non-null    float64\n",
      " 2   ash                           178 non-null    float64\n",
      " 3   alcalinity_of_ash             178 non-null    float64\n",
      " 4   magnesium                     178 non-null    float64\n",
      " 5   total_phenols                 178 non-null    float64\n",
      " 6   flavanoids                    178 non-null    float64\n",
      " 7   nonflavanoid_phenols          178 non-null    float64\n",
      " 8   proanthocyanins               178 non-null    float64\n",
      " 9   color_intensity               178 non-null    float64\n",
      " 10  hue                           178 non-null    float64\n",
      " 11  od280/od315_of_diluted_wines  178 non-null    float64\n",
      " 12  proline                       178 non-null    float64\n",
      "dtypes: float64(13)\n",
      "memory usage: 18.2 KB\n"
     ]
    }
   ],
   "source": [
    "data.info()"
   ]
  },
  {
   "cell_type": "markdown",
   "metadata": {
    "colab": {},
    "colab_type": "code",
    "id": "JIZRKFAJ4UQW"
   },
   "source": [
    "## Clustering\n",
    "클러스터링은 주어진 데이터들의 특성을 고려해 데이터 클러스터를 정의하고, 클러스터를 대표할 수 있는 대표점을 찾는 비지도 학습의 대표적인 알고리즘 입니다.<br>\n",
    "간단히 말해서, 비슷한 특성을 가진 데이터끼리 묶는다고 말할 수 있습니다. \n",
    "\n",
    "### 1. k-Means 클러스터링\n",
    "k-means 클러스터링은 대표적인 클러스터링 알고리즘 중 하나로, 각 클러스터에 할당된 데이터 포인트들의 평균 좌표를 이용해 중심점을 반복적으로 업데이트하며 클러스터를 형성하는 알고리즘 입니다.<br><br>\n",
    "k-means Clustering 알고리즘은 3가지 단계로 이루어집니다.<br>\n",
    "Step 1. 각 데이터 포인트 i 에 대해 가장 가까운\n",
    "    중심점을 찾고, 그 중심점에 해당하는 클러스터를 할당합니다.\n",
    "    <br>가까운 중심점을 찾을 때는, **유클리드 거리**를 사용합니다.<br>\n",
    "Step 2. 할당된 클러스터를 기반으로 새로운 중심점을 계산합니다.\n",
    "    중심점은 클러스터 내부 점들 좌표의 **산술 평균(mean)**\n",
    "    으로 합니다.<br>\n",
    "Step 3. 각 클러스터의 할당이 바뀌지 않을 때까지 반복합니다."
   ]
  },
  {
   "cell_type": "markdown",
   "metadata": {},
   "source": [
    " ### 점과 점사이의 거리를 어떻게 측정할 수 있을까? \n",
    "\n",
    " k-means clustering은 거리 기반 알고리즘이므로 여러가지 방법으로 거리를 측정할 수 있습니다.<br>\n",
    " #### 1. Manhattan Distance - 각 축에 대해 수직으로만 이동하여 계산하는 거리 측정방식\n",
    " $$D(x,y) = {{\\sum_{i=1}^{d}  |x_i - y_i|} } $$\n",
    " ![./Images/Manhattan.png](./img/Manhattan.png)\n",
    " \n",
    " #### 2. Euclidean Distance - 점과 점사이의 가장 짧은 거리를 계산하는 거리 측정방식\n",
    " $$D(x,y) = {\\sqrt{\\sum_{i=1}^{d}  (x_i - y_i)^2} } $$\n",
    " ![./Images/Euclidean.png](./img/Euclidean.png)\n",
    " "
   ]
  },
  {
   "cell_type": "markdown",
   "metadata": {},
   "source": [
    "#### 준비\n",
    "wine 데이터는 13개의 컬럼을 가지고 있고, 하나의 데이터(행)는 13개의 차원으로 이루어진 벡터라고 볼 수 있습니다. <br>\n",
    "13차원은 우리 눈으로 볼 수 있도록 표현하기 어려우므로 앞에서 배운 pca를 통해 2차원으로 만들어 시각화할 수 있도록 변환하겠습니다.<br>\n",
    "그 전에 각 변수들의 값의 범위가 서로 다르므로 min-max 정규화를 통해 조정해주겠습니다."
   ]
  },
  {
   "cell_type": "code",
   "execution_count": 59,
   "metadata": {},
   "outputs": [],
   "source": [
    "#맨하탄 디스턴스는 수직,수평으로 이동\n",
    "#유클리디안 디스턴스 2차원 대각선 동시 이동\n",
    "\n",
    "from sklearn.preprocessing import MinMaxScaler #모든 변수를 0~1로 바운딩\n",
    "scaler = MinMaxScaler()\n",
    "data = scaler.fit_transform(data)"
   ]
  },
  {
   "cell_type": "code",
   "execution_count": 60,
   "metadata": {},
   "outputs": [],
   "source": [
    "#PCA가 뭐더라?\n",
    "from sklearn.decomposition import PCA\n",
    "pca = PCA(n_components=2) #n_components 뜻이 뭐더라?\n",
    "data = pca.fit_transform(data)"
   ]
  },
  {
   "cell_type": "code",
   "execution_count": 61,
   "metadata": {},
   "outputs": [
    {
     "data": {
      "text/plain": [
       "(178, 2)"
      ]
     },
     "execution_count": 61,
     "metadata": {},
     "output_type": "execute_result"
    }
   ],
   "source": [
    "data.shape #차원을 13에서 2로 줄임. PCA가 줄이는 게 맞던가?"
   ]
  },
  {
   "cell_type": "markdown",
   "metadata": {},
   "source": [
    "#### 1) 모델 불러오기 및 정의하기\n",
    "클러스터링은 비지도학습이므로 클러스터의 수는 라벨의 수와 관계 없지만, 3개의 군집을 형성하도록 해보겠습니다.<br>\n",
    "k-means 클러스터링은 sklearn의 cluster 패키지에 있습니다. "
   ]
  },
  {
   "cell_type": "code",
   "execution_count": 55,
   "metadata": {},
   "outputs": [],
   "source": [
    "from sklearn.cluster import KMeans\n",
    "kmeans = KMeans(n_clusters=3) #3개씩 가까운 점들끼리 묶는 cluster모델 정의"
   ]
  },
  {
   "cell_type": "code",
   "execution_count": 62,
   "metadata": {},
   "outputs": [
    {
     "name": "stdout",
     "output_type": "stream",
     "text": [
      "[[-4.03405254e-01 -1.77947740e-01]\n",
      " [-2.76981858e-01 -6.20086307e-03]\n",
      " [-2.97653954e-01 -1.32963674e-01]\n",
      " [-4.69260359e-01 -4.08269281e-01]\n",
      " [-1.15679086e-01 -4.17940180e-02]\n",
      " [-3.47351951e-01 -3.42635946e-01]\n",
      " [-3.10718489e-01 -2.10982691e-01]\n",
      " [-2.70916918e-01 -2.09577428e-01]\n",
      " [-2.85808698e-01 -2.16187995e-01]\n",
      " [-3.58390529e-01 -1.45010639e-01]\n",
      " [-4.15473903e-01 -2.50562119e-01]\n",
      " [-2.14153052e-01 -1.58431812e-01]\n",
      " [-2.55971054e-01 -1.63009673e-01]\n",
      " [-3.57720807e-01 -2.49596895e-01]\n",
      " [-4.77297985e-01 -3.78148227e-01]\n",
      " [-2.69531413e-01 -2.37133667e-01]\n",
      " [-2.43864724e-01 -3.16859136e-01]\n",
      " [-2.09371580e-01 -2.21914170e-01]\n",
      " [-4.10517333e-01 -4.17388886e-01]\n",
      " [-2.62080197e-01 -1.23542447e-01]\n",
      " [-3.77999681e-01 -8.98416047e-02]\n",
      " [-1.53004120e-01  6.89551464e-03]\n",
      " [-3.42550082e-01  5.49949122e-04]\n",
      " [-2.38669721e-01  7.99711749e-02]\n",
      " [-2.56971726e-01  6.91409994e-02]\n",
      " [-1.23241574e-01  6.50996960e-03]\n",
      " [-2.37320267e-01 -1.09266965e-01]\n",
      " [-1.62168910e-01 -6.30681333e-02]\n",
      " [-2.71340538e-01 -6.18840453e-02]\n",
      " [-2.93784134e-01 -7.35162387e-02]\n",
      " [-2.97536043e-01 -1.81629179e-01]\n",
      " [-3.28817883e-01 -2.53825813e-01]\n",
      " [-1.72562034e-01 -3.61909864e-02]\n",
      " [-2.09615031e-01 -1.88787877e-01]\n",
      " [-1.73063383e-01 -8.53310557e-02]\n",
      " [-2.61768302e-01 -2.13022489e-02]\n",
      " [-1.55098027e-01 -5.35009998e-02]\n",
      " [-1.32503144e-01 -3.53728882e-02]\n",
      " [-1.74467169e-01  4.33479302e-02]\n",
      " [-2.96758869e-01 -2.20564569e-01]\n",
      " [-3.03024145e-01 -9.10403202e-02]\n",
      " [-1.06825605e-01 -8.77326489e-02]\n",
      " [-4.02932616e-01 -1.66533197e-01]\n",
      " [-6.36901981e-02 -4.87162495e-02]\n",
      " [-2.66920853e-01 -2.93288897e-03]\n",
      " [-1.65696074e-01 -2.58088581e-01]\n",
      " [-3.33113385e-01 -2.17170266e-01]\n",
      " [-3.54256198e-01 -1.36213076e-01]\n",
      " [-2.25492504e-01 -2.06345848e-01]\n",
      " [-3.19612467e-01 -2.86938809e-01]\n",
      " [-3.60791177e-01 -1.07583525e-01]\n",
      " [-3.53771244e-01 -1.33237668e-01]\n",
      " [-4.17524414e-01 -2.48010990e-01]\n",
      " [-2.54933955e-01 -2.63868748e-01]\n",
      " [-2.69725662e-01 -1.52921206e-01]\n",
      " [-3.00707873e-01 -1.73843762e-01]\n",
      " [-3.31778935e-01 -2.08116529e-01]\n",
      " [-2.60717881e-01 -1.78636575e-01]\n",
      " [-3.81895327e-01 -2.62590555e-01]\n",
      " [ 1.35134851e-01  2.92299252e-01]\n",
      " [ 2.34779349e-01  1.68002414e-01]\n",
      " [ 2.58985368e-01  8.10957792e-02]\n",
      " [-5.87736346e-03  1.01246386e-01]\n",
      " [-2.59107910e-01  2.52023459e-01]\n",
      " [ 1.06165696e-01  3.03595555e-01]\n",
      " [-7.56821450e-02  1.24416042e-01]\n",
      " [-2.75087972e-01  1.74453874e-01]\n",
      " [-7.84494634e-02  3.03111314e-01]\n",
      " [ 1.25737405e-01  1.83251410e-02]\n",
      " [-1.97055772e-01  2.22184153e-01]\n",
      " [ 2.10141286e-01  1.09580451e-01]\n",
      " [-2.33203809e-01  1.56023312e-01]\n",
      " [ 4.30748132e-02  1.37842897e-01]\n",
      " [-3.42261183e-01  6.03248716e-02]\n",
      " [-2.62467005e-01  1.94965405e-01]\n",
      " [ 1.32421311e-01  3.08886815e-01]\n",
      " [-3.70886542e-02  2.18446517e-01]\n",
      " [ 1.84893589e-01  2.26440984e-01]\n",
      " [-7.64898412e-02  1.17972673e-01]\n",
      " [-4.93145305e-02  1.76365800e-01]\n",
      " [-1.07072782e-01  4.56672775e-01]\n",
      " [-1.44830770e-01  1.75082225e-01]\n",
      " [ 3.68901581e-02  3.42452650e-01]\n",
      " [ 3.24722500e-01 -1.91518865e-03]\n",
      " [-1.18539816e-01  2.69411892e-01]\n",
      " [-1.05558922e-01  2.93893608e-01]\n",
      " [ 1.11143349e-01  3.12541051e-01]\n",
      " [ 2.84364370e-02  3.92357287e-01]\n",
      " [ 1.15364394e-01  2.75410195e-01]\n",
      " [ 1.48498944e-02  3.65743313e-01]\n",
      " [ 1.83203438e-01  2.86723464e-01]\n",
      " [ 1.83578325e-01  2.91145128e-01]\n",
      " [ 2.52173622e-01  1.97313317e-01]\n",
      " [-1.04981031e-01  3.30825646e-01]\n",
      " [-1.33999252e-01  3.38805328e-01]\n",
      " [-2.27743087e-01  4.69733262e-02]\n",
      " [ 7.55659968e-02  1.63910445e-01]\n",
      " [-1.16073764e-01  3.13771922e-01]\n",
      " [-2.80594414e-01  1.68130460e-01]\n",
      " [-1.26910308e-01  2.85074502e-01]\n",
      " [-1.01897158e-01  2.69442291e-01]\n",
      " [ 5.03752474e-02  2.75195544e-01]\n",
      " [-2.62504492e-02  2.22720972e-01]\n",
      " [ 7.26271213e-02  3.42200521e-01]\n",
      " [-9.61543126e-02  2.67022106e-01]\n",
      " [ 1.91293299e-01  2.82486879e-01]\n",
      " [ 1.76225869e-02  2.90037214e-01]\n",
      " [ 1.89235231e-01  1.89642423e-01]\n",
      " [-1.85757302e-02  3.23191234e-01]\n",
      " [-2.07467525e-01  2.74926731e-01]\n",
      " [-1.47880364e-01  1.98775491e-01]\n",
      " [ 6.97469869e-04  2.69336671e-01]\n",
      " [ 1.77706410e-01  1.89896466e-01]\n",
      " [ 5.66670058e-02  3.56342703e-01]\n",
      " [ 1.06986932e-02  3.21115994e-01]\n",
      " [-3.50510222e-02  5.46469182e-01]\n",
      " [-1.44556819e-02  3.92991567e-01]\n",
      " [ 7.18070201e-04  3.11275613e-01]\n",
      " [ 2.92836711e-01  1.20307445e-01]\n",
      " [ 5.20089595e-02  2.89114795e-01]\n",
      " [-1.26052054e-01  2.52766508e-01]\n",
      " [-2.04379918e-01  1.71001735e-01]\n",
      " [ 1.12361132e-01  1.88640032e-01]\n",
      " [ 2.66619232e-02  7.21046838e-02]\n",
      " [-1.57846998e-01  2.44753804e-01]\n",
      " [-3.31534571e-02  3.11558646e-01]\n",
      " [-3.20726039e-02  2.03200417e-01]\n",
      " [ 1.81818184e-01  2.59367027e-01]\n",
      " [ 3.52323179e-02  3.02472658e-01]\n",
      " [ 1.91391198e-01  1.63838573e-01]\n",
      " [ 1.93541570e-01 -1.14596974e-02]\n",
      " [ 3.00110426e-01 -4.81556433e-02]\n",
      " [ 3.48733234e-01 -2.72409330e-02]\n",
      " [ 2.68715695e-01 -5.48234726e-02]\n",
      " [ 3.19556628e-01  3.20207925e-02]\n",
      " [ 4.00293697e-01 -7.43463500e-02]\n",
      " [ 4.95945231e-01 -2.86243206e-02]\n",
      " [ 4.92754833e-01 -5.49606168e-02]\n",
      " [ 3.90505727e-01 -9.40991020e-02]\n",
      " [ 2.80261573e-01  3.91287215e-04]\n",
      " [ 3.25228292e-01  3.77033357e-03]\n",
      " [ 2.42543399e-01 -6.99516141e-02]\n",
      " [ 3.51595332e-01 -3.35605803e-02]\n",
      " [ 2.98225685e-01 -9.73003939e-02]\n",
      " [ 2.72777112e-01 -1.59748673e-01]\n",
      " [ 3.31068925e-01 -1.10861559e-01]\n",
      " [ 5.22702015e-01 -1.50565087e-01]\n",
      " [ 4.20797742e-01 -1.77297497e-01]\n",
      " [ 3.44880520e-01 -2.30497353e-01]\n",
      " [ 3.73654483e-01 -2.66054354e-01]\n",
      " [ 2.97465481e-01 -2.69221875e-01]\n",
      " [ 3.13901945e-01 -2.35385056e-01]\n",
      " [ 2.31925773e-01 -1.33731986e-01]\n",
      " [ 3.81439485e-01 -3.14253813e-01]\n",
      " [ 3.57972369e-01 -6.25235377e-02]\n",
      " [ 4.66639714e-01 -2.75361957e-01]\n",
      " [ 3.71790184e-01 -2.89708721e-01]\n",
      " [ 4.07457304e-01 -1.43635398e-01]\n",
      " [ 1.46536694e-01 -4.53530818e-01]\n",
      " [ 2.13396183e-01 -3.11721269e-01]\n",
      " [ 3.85515530e-01 -1.00825377e-01]\n",
      " [ 2.95547884e-01 -1.61076324e-01]\n",
      " [ 3.57563311e-01 -3.25266572e-02]\n",
      " [ 3.30685629e-01 -9.77439084e-02]\n",
      " [ 3.56595891e-01 -2.45189987e-01]\n",
      " [ 4.37680704e-01 -1.56740836e-01]\n",
      " [ 3.21549166e-01 -3.34937593e-01]\n",
      " [ 3.56603447e-01 -2.02951529e-01]\n",
      " [ 2.69864171e-01 -2.53562429e-01]\n",
      " [ 2.75506393e-01 -2.92363295e-01]\n",
      " [ 3.87897254e-01  4.62114331e-02]\n",
      " [ 4.42352828e-01 -1.27851704e-01]\n",
      " [ 3.07068433e-01 -3.24985095e-01]\n",
      " [ 4.22351575e-01 -3.31659348e-01]\n",
      " [ 3.32269131e-01 -2.44836780e-01]\n",
      " [ 3.57702279e-01 -3.84339475e-01]\n",
      " [ 3.27248931e-01 -2.99059216e-01]\n",
      " [ 4.00794213e-01 -3.60899158e-01]]\n"
     ]
    }
   ],
   "source": [
    "print(data)"
   ]
  },
  {
   "cell_type": "markdown",
   "metadata": {},
   "source": [
    "#### 2) 모델 학습하기 (클러스터링을 통한 중심점 찾기)"
   ]
  },
  {
   "cell_type": "code",
   "execution_count": 65,
   "metadata": {},
   "outputs": [
    {
     "name": "stdout",
     "output_type": "stream",
     "text": [
      "KMeans(n_clusters=3)\n"
     ]
    }
   ],
   "source": [
    "kmeans.fit(data) #fit함수는 자기참조함. 반환값은 kmeans에 저장 된다.\n",
    "print(kmeans)"
   ]
  },
  {
   "cell_type": "markdown",
   "metadata": {},
   "source": [
    "#### 3) 클러스터 할당"
   ]
  },
  {
   "cell_type": "code",
   "execution_count": 52,
   "metadata": {},
   "outputs": [],
   "source": [
    "cluster = kmeans.predict(data)\n",
    "#data에 대해서 학습(군집) 완료 된 kmeans모델로 원본 data를 input으로 넣어서 예측결과를 변수에 할당한다.\n",
    "#predict의 return : labels ndarray of shape (n_samples,)"
   ]
  },
  {
   "cell_type": "code",
   "execution_count": 66,
   "metadata": {},
   "outputs": [
    {
     "name": "stdout",
     "output_type": "stream",
     "text": [
      "[1 1 1 1 1 1 1 1 1 1 1 1 1 1 1 1 1 1 1 1 1 1 1 1 1 1 1 1 1 1 1 1 1 1 1 1 1\n",
      " 1 1 1 1 1 1 1 1 1 1 1 1 1 1 1 1 1 1 1 1 1 1 0 0 2 0 0 0 0 1 0 0 0 0 1 0 1\n",
      " 1 0 0 0 0 0 0 0 0 2 0 0 0 0 0 0 0 0 0 0 0 1 0 0 1 0 0 0 0 0 0 0 0 0 0 0 0\n",
      " 0 0 0 0 0 0 0 2 0 0 0 0 0 0 0 0 0 0 0 2 2 2 2 2 2 2 2 2 2 2 2 2 2 2 2 2 2\n",
      " 2 2 2 2 2 2 2 2 2 2 2 2 2 2 2 2 2 2 2 2 2 2 2 2 2 2 2 2 2 2]\n",
      "[[-4.03405254e-01 -1.77947740e-01]\n",
      " [-2.76981858e-01 -6.20086307e-03]\n",
      " [-2.97653954e-01 -1.32963674e-01]\n",
      " [-4.69260359e-01 -4.08269281e-01]\n",
      " [-1.15679086e-01 -4.17940180e-02]\n",
      " [-3.47351951e-01 -3.42635946e-01]\n",
      " [-3.10718489e-01 -2.10982691e-01]\n",
      " [-2.70916918e-01 -2.09577428e-01]\n",
      " [-2.85808698e-01 -2.16187995e-01]\n",
      " [-3.58390529e-01 -1.45010639e-01]\n",
      " [-4.15473903e-01 -2.50562119e-01]\n",
      " [-2.14153052e-01 -1.58431812e-01]\n",
      " [-2.55971054e-01 -1.63009673e-01]\n",
      " [-3.57720807e-01 -2.49596895e-01]\n",
      " [-4.77297985e-01 -3.78148227e-01]\n",
      " [-2.69531413e-01 -2.37133667e-01]\n",
      " [-2.43864724e-01 -3.16859136e-01]\n",
      " [-2.09371580e-01 -2.21914170e-01]\n",
      " [-4.10517333e-01 -4.17388886e-01]\n",
      " [-2.62080197e-01 -1.23542447e-01]\n",
      " [-3.77999681e-01 -8.98416047e-02]\n",
      " [-1.53004120e-01  6.89551464e-03]\n",
      " [-3.42550082e-01  5.49949122e-04]\n",
      " [-2.38669721e-01  7.99711749e-02]\n",
      " [-2.56971726e-01  6.91409994e-02]\n",
      " [-1.23241574e-01  6.50996960e-03]\n",
      " [-2.37320267e-01 -1.09266965e-01]\n",
      " [-1.62168910e-01 -6.30681333e-02]\n",
      " [-2.71340538e-01 -6.18840453e-02]\n",
      " [-2.93784134e-01 -7.35162387e-02]\n",
      " [-2.97536043e-01 -1.81629179e-01]\n",
      " [-3.28817883e-01 -2.53825813e-01]\n",
      " [-1.72562034e-01 -3.61909864e-02]\n",
      " [-2.09615031e-01 -1.88787877e-01]\n",
      " [-1.73063383e-01 -8.53310557e-02]\n",
      " [-2.61768302e-01 -2.13022489e-02]\n",
      " [-1.55098027e-01 -5.35009998e-02]\n",
      " [-1.32503144e-01 -3.53728882e-02]\n",
      " [-1.74467169e-01  4.33479302e-02]\n",
      " [-2.96758869e-01 -2.20564569e-01]\n",
      " [-3.03024145e-01 -9.10403202e-02]\n",
      " [-1.06825605e-01 -8.77326489e-02]\n",
      " [-4.02932616e-01 -1.66533197e-01]\n",
      " [-6.36901981e-02 -4.87162495e-02]\n",
      " [-2.66920853e-01 -2.93288897e-03]\n",
      " [-1.65696074e-01 -2.58088581e-01]\n",
      " [-3.33113385e-01 -2.17170266e-01]\n",
      " [-3.54256198e-01 -1.36213076e-01]\n",
      " [-2.25492504e-01 -2.06345848e-01]\n",
      " [-3.19612467e-01 -2.86938809e-01]\n",
      " [-3.60791177e-01 -1.07583525e-01]\n",
      " [-3.53771244e-01 -1.33237668e-01]\n",
      " [-4.17524414e-01 -2.48010990e-01]\n",
      " [-2.54933955e-01 -2.63868748e-01]\n",
      " [-2.69725662e-01 -1.52921206e-01]\n",
      " [-3.00707873e-01 -1.73843762e-01]\n",
      " [-3.31778935e-01 -2.08116529e-01]\n",
      " [-2.60717881e-01 -1.78636575e-01]\n",
      " [-3.81895327e-01 -2.62590555e-01]\n",
      " [ 1.35134851e-01  2.92299252e-01]\n",
      " [ 2.34779349e-01  1.68002414e-01]\n",
      " [ 2.58985368e-01  8.10957792e-02]\n",
      " [-5.87736346e-03  1.01246386e-01]\n",
      " [-2.59107910e-01  2.52023459e-01]\n",
      " [ 1.06165696e-01  3.03595555e-01]\n",
      " [-7.56821450e-02  1.24416042e-01]\n",
      " [-2.75087972e-01  1.74453874e-01]\n",
      " [-7.84494634e-02  3.03111314e-01]\n",
      " [ 1.25737405e-01  1.83251410e-02]\n",
      " [-1.97055772e-01  2.22184153e-01]\n",
      " [ 2.10141286e-01  1.09580451e-01]\n",
      " [-2.33203809e-01  1.56023312e-01]\n",
      " [ 4.30748132e-02  1.37842897e-01]\n",
      " [-3.42261183e-01  6.03248716e-02]\n",
      " [-2.62467005e-01  1.94965405e-01]\n",
      " [ 1.32421311e-01  3.08886815e-01]\n",
      " [-3.70886542e-02  2.18446517e-01]\n",
      " [ 1.84893589e-01  2.26440984e-01]\n",
      " [-7.64898412e-02  1.17972673e-01]\n",
      " [-4.93145305e-02  1.76365800e-01]\n",
      " [-1.07072782e-01  4.56672775e-01]\n",
      " [-1.44830770e-01  1.75082225e-01]\n",
      " [ 3.68901581e-02  3.42452650e-01]\n",
      " [ 3.24722500e-01 -1.91518865e-03]\n",
      " [-1.18539816e-01  2.69411892e-01]\n",
      " [-1.05558922e-01  2.93893608e-01]\n",
      " [ 1.11143349e-01  3.12541051e-01]\n",
      " [ 2.84364370e-02  3.92357287e-01]\n",
      " [ 1.15364394e-01  2.75410195e-01]\n",
      " [ 1.48498944e-02  3.65743313e-01]\n",
      " [ 1.83203438e-01  2.86723464e-01]\n",
      " [ 1.83578325e-01  2.91145128e-01]\n",
      " [ 2.52173622e-01  1.97313317e-01]\n",
      " [-1.04981031e-01  3.30825646e-01]\n",
      " [-1.33999252e-01  3.38805328e-01]\n",
      " [-2.27743087e-01  4.69733262e-02]\n",
      " [ 7.55659968e-02  1.63910445e-01]\n",
      " [-1.16073764e-01  3.13771922e-01]\n",
      " [-2.80594414e-01  1.68130460e-01]\n",
      " [-1.26910308e-01  2.85074502e-01]\n",
      " [-1.01897158e-01  2.69442291e-01]\n",
      " [ 5.03752474e-02  2.75195544e-01]\n",
      " [-2.62504492e-02  2.22720972e-01]\n",
      " [ 7.26271213e-02  3.42200521e-01]\n",
      " [-9.61543126e-02  2.67022106e-01]\n",
      " [ 1.91293299e-01  2.82486879e-01]\n",
      " [ 1.76225869e-02  2.90037214e-01]\n",
      " [ 1.89235231e-01  1.89642423e-01]\n",
      " [-1.85757302e-02  3.23191234e-01]\n",
      " [-2.07467525e-01  2.74926731e-01]\n",
      " [-1.47880364e-01  1.98775491e-01]\n",
      " [ 6.97469869e-04  2.69336671e-01]\n",
      " [ 1.77706410e-01  1.89896466e-01]\n",
      " [ 5.66670058e-02  3.56342703e-01]\n",
      " [ 1.06986932e-02  3.21115994e-01]\n",
      " [-3.50510222e-02  5.46469182e-01]\n",
      " [-1.44556819e-02  3.92991567e-01]\n",
      " [ 7.18070201e-04  3.11275613e-01]\n",
      " [ 2.92836711e-01  1.20307445e-01]\n",
      " [ 5.20089595e-02  2.89114795e-01]\n",
      " [-1.26052054e-01  2.52766508e-01]\n",
      " [-2.04379918e-01  1.71001735e-01]\n",
      " [ 1.12361132e-01  1.88640032e-01]\n",
      " [ 2.66619232e-02  7.21046838e-02]\n",
      " [-1.57846998e-01  2.44753804e-01]\n",
      " [-3.31534571e-02  3.11558646e-01]\n",
      " [-3.20726039e-02  2.03200417e-01]\n",
      " [ 1.81818184e-01  2.59367027e-01]\n",
      " [ 3.52323179e-02  3.02472658e-01]\n",
      " [ 1.91391198e-01  1.63838573e-01]\n",
      " [ 1.93541570e-01 -1.14596974e-02]\n",
      " [ 3.00110426e-01 -4.81556433e-02]\n",
      " [ 3.48733234e-01 -2.72409330e-02]\n",
      " [ 2.68715695e-01 -5.48234726e-02]\n",
      " [ 3.19556628e-01  3.20207925e-02]\n",
      " [ 4.00293697e-01 -7.43463500e-02]\n",
      " [ 4.95945231e-01 -2.86243206e-02]\n",
      " [ 4.92754833e-01 -5.49606168e-02]\n",
      " [ 3.90505727e-01 -9.40991020e-02]\n",
      " [ 2.80261573e-01  3.91287215e-04]\n",
      " [ 3.25228292e-01  3.77033357e-03]\n",
      " [ 2.42543399e-01 -6.99516141e-02]\n",
      " [ 3.51595332e-01 -3.35605803e-02]\n",
      " [ 2.98225685e-01 -9.73003939e-02]\n",
      " [ 2.72777112e-01 -1.59748673e-01]\n",
      " [ 3.31068925e-01 -1.10861559e-01]\n",
      " [ 5.22702015e-01 -1.50565087e-01]\n",
      " [ 4.20797742e-01 -1.77297497e-01]\n",
      " [ 3.44880520e-01 -2.30497353e-01]\n",
      " [ 3.73654483e-01 -2.66054354e-01]\n",
      " [ 2.97465481e-01 -2.69221875e-01]\n",
      " [ 3.13901945e-01 -2.35385056e-01]\n",
      " [ 2.31925773e-01 -1.33731986e-01]\n",
      " [ 3.81439485e-01 -3.14253813e-01]\n",
      " [ 3.57972369e-01 -6.25235377e-02]\n",
      " [ 4.66639714e-01 -2.75361957e-01]\n",
      " [ 3.71790184e-01 -2.89708721e-01]\n",
      " [ 4.07457304e-01 -1.43635398e-01]\n",
      " [ 1.46536694e-01 -4.53530818e-01]\n",
      " [ 2.13396183e-01 -3.11721269e-01]\n",
      " [ 3.85515530e-01 -1.00825377e-01]\n",
      " [ 2.95547884e-01 -1.61076324e-01]\n",
      " [ 3.57563311e-01 -3.25266572e-02]\n",
      " [ 3.30685629e-01 -9.77439084e-02]\n",
      " [ 3.56595891e-01 -2.45189987e-01]\n",
      " [ 4.37680704e-01 -1.56740836e-01]\n",
      " [ 3.21549166e-01 -3.34937593e-01]\n",
      " [ 3.56603447e-01 -2.02951529e-01]\n",
      " [ 2.69864171e-01 -2.53562429e-01]\n",
      " [ 2.75506393e-01 -2.92363295e-01]\n",
      " [ 3.87897254e-01  4.62114331e-02]\n",
      " [ 4.42352828e-01 -1.27851704e-01]\n",
      " [ 3.07068433e-01 -3.24985095e-01]\n",
      " [ 4.22351575e-01 -3.31659348e-01]\n",
      " [ 3.32269131e-01 -2.44836780e-01]\n",
      " [ 3.57702279e-01 -3.84339475e-01]\n",
      " [ 3.27248931e-01 -2.99059216e-01]\n",
      " [ 4.00794213e-01 -3.60899158e-01]]\n"
     ]
    }
   ],
   "source": [
    "print(cluster)"
   ]
  },
  {
   "cell_type": "markdown",
   "metadata": {},
   "source": [
    "#### 4) 결과 살펴보기"
   ]
  },
  {
   "cell_type": "code",
   "execution_count": 51,
   "metadata": {},
   "outputs": [
    {
     "data": {
      "image/png": "[encoded data removed]",
      "text/plain": [
       "<Figure size 432x288 with 1 Axes>"
      ]
     },
     "metadata": {
      "needs_background": "light"
     },
     "output_type": "display_data"
    }
   ],
   "source": [
    "plt.scatter(data[:,0], data[:,1], c=cluster, linewidth =1, edgecolor='black') #c는 color로 품종에 따른 색깔을 미리 선언해둠\n",
    "plt.show()\n"
   ]
  },
  {
   "cell_type": "markdown",
   "metadata": {},
   "source": [
    "## 2. Hierarchical Clustering\n",
    "Hierarchical Clustering은 거리(Distance) 또는 유사도(Similarity)를 기반으로 클러스터를 형성하는 알고리즘 입니다.<br> \n",
    "모두가 중심점이 된다.(k-means는 정해준다)\n",
    "k-means Clustering과 다르게 클러스터의 수를 설정해 줄 필요가 없으며, 클러스터 형태를 시각적으로 표현해주는 덴드로그램을 통해 적절한 클러스터의 수를 선택할 수 있습니다.<br>\n",
    "Hierachichal Clustering에는 Bottom-Up 방식의 Agglomerative Method(적층)와 Top-Down 방식의 Divisive(분열) Method로 나뉩니다.<br>\n",
    "이번 단원에서는 Agglomerative Method를 사용해 실습을 진행합니다.\n",
    "<br><br>Agglomerative Method를 사용한 Hierarchical Clustering 알고리즘은 3가지 단계로 이루어집니다.<br>\n",
    "Step 1. 각 데이터 포인트를 클러스터로 할당합니다. (n개의 클러스터)<br>\n",
    "Step 2. 가까운 클러스터끼리 병합합니다.<br>\n",
    "Step 3. 1개의 클러스터가 될 때까지 반복합니다."
   ]
  },
  {
   "cell_type": "markdown",
   "metadata": {},
   "source": [
    "### 어떻게 가장 가까운 클러스터를 찾을 수 있을까?\n",
    "방금전 거리 측정 방법으로 맨하탄 거리, 유클리디언 거리에 대해 배웠었습니다.<br>\n",
    "k-means에서는 각 클러스터의 중심점 간의 거리로 클러스터간 거리를 계산했었습니다.<br> 이번 수업에서는 새로운 클러스터간 거리를 계산하는 방법에 대해 알아보겠습니다.<br>\n",
    "#### 1. Single Linkage - 두 클러스터 내의 가장 가까운 점 사이의 거리 \n",
    "![Single Linkage](./img/Single.png)\n",
    "#### 2. Complete Linkage - 두 클러스터 내의 가장 먼 점 사이의 거리\n",
    "![Complete Linkage](./img/Complete.png)\n",
    "#### 3. Average Linkage - 두 클러스터 내의 모든 점 사이의 평균 거리\n",
    "![Average Linkage](./img/Average.png)\n",
    "\n",
    "3개 거리 측정 방식의 결과와 차이점을 살펴보겠습니다."
   ]
  },
  {
   "cell_type": "markdown",
   "metadata": {},
   "source": [
    "### Single Linkage"
   ]
  },
  {
   "cell_type": "markdown",
   "metadata": {},
   "source": [
    "#### 1) 모델 불러오기 및 정의하기"
   ]
  },
  {
   "cell_type": "code",
   "execution_count": 71,
   "metadata": {},
   "outputs": [],
   "source": [
    "from sklearn.cluster import AgglomerativeClustering\n",
    "single_clustering = AgglomerativeClustering(n_clusters=3, linkage='single') #n_cluster 뒤에 s붙는 복수형\n",
    "#single은 가장 가까운 점 사이의 거리, complete는 클러스터 내에서 가장 먼 점 사이의 거리, avarage는 두 클러스트 내에서 모든 점의 평균 거리"
   ]
  },
  {
   "cell_type": "markdown",
   "metadata": {},
   "source": [
    "#### 2) 모델 학습하기 (클러스터링을 통한 중심점 찾기)"
   ]
  },
  {
   "cell_type": "code",
   "execution_count": 72,
   "metadata": {},
   "outputs": [
    {
     "data": {
      "text/plain": [
       "AgglomerativeClustering(linkage='single', n_clusters=3)"
      ]
     },
     "execution_count": 72,
     "metadata": {},
     "output_type": "execute_result"
    }
   ],
   "source": [
    "\n",
    "single_clustering.fit(data)"
   ]
  },
  {
   "cell_type": "markdown",
   "metadata": {},
   "source": [
    "#### 3) 클러스터 할당"
   ]
  },
  {
   "cell_type": "code",
   "execution_count": 77,
   "metadata": {},
   "outputs": [
    {
     "data": {
      "text/plain": [
       "array([0, 0, 0, 0, 0, 0, 0, 0, 0, 0, 0, 0, 0, 0, 0, 0, 0, 0, 0, 0, 0, 0,\n",
       "       0, 0, 0, 0, 0, 0, 0, 0, 0, 0, 0, 0, 0, 0, 0, 0, 0, 0, 0, 0, 0, 0,\n",
       "       0, 0, 0, 0, 0, 0, 0, 0, 0, 0, 0, 0, 0, 0, 0, 0, 0, 0, 0, 0, 0, 0,\n",
       "       0, 0, 0, 0, 0, 0, 0, 0, 0, 0, 0, 0, 0, 0, 0, 0, 0, 0, 0, 0, 0, 0,\n",
       "       0, 0, 0, 0, 0, 0, 0, 0, 0, 0, 0, 0, 0, 0, 0, 0, 0, 0, 0, 0, 0, 0,\n",
       "       0, 0, 0, 0, 0, 2, 0, 0, 0, 0, 0, 0, 0, 0, 0, 0, 0, 0, 0, 0, 0, 0,\n",
       "       0, 0, 0, 0, 0, 0, 0, 0, 0, 0, 0, 0, 0, 0, 0, 0, 0, 0, 0, 0, 0, 0,\n",
       "       0, 0, 0, 0, 1, 0, 0, 0, 0, 0, 0, 0, 0, 0, 0, 0, 0, 0, 0, 0, 0, 0,\n",
       "       0, 0], dtype=int64)"
      ]
     },
     "execution_count": 77,
     "metadata": {},
     "output_type": "execute_result"
    }
   ],
   "source": [
    "#predict\n",
    "single_cluster = single_clustering.labels_\n",
    "single_cluster\n",
    "#대부분 0이라는 것은 잘못 된 것이다."
   ]
  },
  {
   "cell_type": "markdown",
   "metadata": {},
   "source": [
    "#### 4) 결과 살펴보기\n",
    "* 산점도"
   ]
  },
  {
   "cell_type": "code",
   "execution_count": 74,
   "metadata": {},
   "outputs": [
    {
     "data": {
      "image/png": "[encoded data removed]",
      "text/plain": [
       "<Figure size 432x288 with 1 Axes>"
      ]
     },
     "metadata": {
      "needs_background": "light"
     },
     "output_type": "display_data"
    }
   ],
   "source": [
    "plt.scatter(data[:,0], data[:,1], c=single_cluster)\n",
    "plt.title('Sklearn Single Linkage Hierarchical Clustering')\n",
    "plt.show()\n",
    "#single Linkage는 노이즈에 취약하다(편향된다.)"
   ]
  },
  {
   "cell_type": "markdown",
   "metadata": {},
   "source": [
    "* 덴드로그램"
   ]
  },
  {
   "cell_type": "code",
   "execution_count": 75,
   "metadata": {},
   "outputs": [
    {
     "data": {
      "image/png": "[encoded data removed]",
      "text/plain": [
       "<Figure size 720x720 with 1 Axes>"
      ]
     },
     "metadata": {
      "needs_background": "light"
     },
     "output_type": "display_data"
    }
   ],
   "source": [
    "from scipy.cluster.hierarchy import dendrogram #덴도그램? 아무튼 굉장히 치우쳐 보인다.\n",
    "plt.figure(figsize=(10,10))\n",
    "\n",
    "# Hierarchical Clustering의 자식 노드\n",
    "children = single_clustering.children_\n",
    "\n",
    "# 각 자식 노드간의 거리 정보를 가지고 있지 않기 때문에, 균일하게 그리도록 합니다.\n",
    "distance = np.arange(children.shape[0])\n",
    "\n",
    "# 각 클러스터 단계를 포함한 노드의 수 계산\n",
    "no_of_observations = np.arange(2, children.shape[0]+2)\n",
    "\n",
    "# 덴드로그램을 그리기위한 연결 매트릭스를 생성합니다.\n",
    "linkage_matrix = np.column_stack([children, distance, no_of_observations]).astype(float)\n",
    "\n",
    "# 덴드로그램을 그립니다.\n",
    "dendrogram(linkage_matrix, p = len(data), labels = single_cluster, \n",
    "           show_contracted=True, no_labels = True, )\n",
    "plt.show()"
   ]
  },
  {
   "cell_type": "markdown",
   "metadata": {},
   "source": [
    "### Complete Linkage"
   ]
  },
  {
   "cell_type": "markdown",
   "metadata": {},
   "source": [
    "#### 1) 모델 불러오기 및 정의하기"
   ]
  },
  {
   "cell_type": "code",
   "execution_count": 98,
   "metadata": {},
   "outputs": [],
   "source": [
    "complete_clustering = AgglomerativeClustering(n_clusters=3, linkage='complete')"
   ]
  },
  {
   "cell_type": "markdown",
   "metadata": {},
   "source": [
    "#### 2) 모델 학습하기 (클러스터링을 통한 중심점 찾기)"
   ]
  },
  {
   "cell_type": "code",
   "execution_count": 99,
   "metadata": {},
   "outputs": [
    {
     "data": {
      "text/plain": [
       "AgglomerativeClustering(linkage='complete', n_clusters=3)"
      ]
     },
     "execution_count": 99,
     "metadata": {},
     "output_type": "execute_result"
    }
   ],
   "source": [
    "complete_clustering.fit(data)"
   ]
  },
  {
   "cell_type": "markdown",
   "metadata": {},
   "source": [
    "#### 3) 클러스터 할당"
   ]
  },
  {
   "cell_type": "code",
   "execution_count": 102,
   "metadata": {},
   "outputs": [],
   "source": [
    "complete_cluster = complete_clustering.labels_"
   ]
  },
  {
   "cell_type": "markdown",
   "metadata": {},
   "source": [
    "#### 4) 결과 살펴보기\n",
    "* 산점도"
   ]
  },
  {
   "cell_type": "code",
   "execution_count": 103,
   "metadata": {},
   "outputs": [
    {
     "data": {
      "image/png": "[encoded data removed]",
      "text/plain": [
       "<Figure size 432x288 with 1 Axes>"
      ]
     },
     "metadata": {
      "needs_background": "light"
     },
     "output_type": "display_data"
    }
   ],
   "source": [
    "plt.scatter(data[:,0], data[:,1], c=complete_cluster)\n",
    "plt.title('Sklearn Complete Linkage Hierarchical Clustering')\n",
    "plt.show()\n",
    "# single linkage보다는 균형잡혀 있다. 노이즈에 강한 특징이 있다."
   ]
  },
  {
   "cell_type": "markdown",
   "metadata": {},
   "source": [
    "* 덴드로그램"
   ]
  },
  {
   "cell_type": "code",
   "execution_count": 104,
   "metadata": {},
   "outputs": [
    {
     "data": {
      "image/png": "[encoded data removed]",
      "text/plain": [
       "<Figure size 720x720 with 1 Axes>"
      ]
     },
     "metadata": {
      "needs_background": "light"
     },
     "output_type": "display_data"
    }
   ],
   "source": [
    "from scipy.cluster.hierarchy import dendrogram\n",
    "plt.figure(figsize=(10,10))\n",
    "\n",
    "# Hierarchical Clustering의 자식 노드\n",
    "children = complete_clustering.children_\n",
    "\n",
    "# 각 자식 노드간의 거리 정보를 가지고 있지 않기 때문에, 균일하게 그리도록 합니다.\n",
    "distance = np.arange(children.shape[0])\n",
    "\n",
    "# 각 클러스터 단계를 포함한 노드의 수 계산\n",
    "no_of_observations = np.arange(2, children.shape[0]+2)\n",
    "\n",
    "# 덴드로그램을 그리기위한 연결 매트릭스를 생성합니다.\n",
    "linkage_matrix = np.column_stack([children, distance, no_of_observations]).astype(float)\n",
    "\n",
    "# 덴드로그램을 그립니다.\n",
    "dendrogram(linkage_matrix, p = len(data), labels = complete_cluster, \n",
    "           show_contracted=True, no_labels = True, )\n",
    "plt.show()"
   ]
  },
  {
   "cell_type": "markdown",
   "metadata": {},
   "source": [
    "### Average Linkage"
   ]
  },
  {
   "cell_type": "markdown",
   "metadata": {},
   "source": [
    "#### 1) 모델 불러오기 및 정의하기"
   ]
  },
  {
   "cell_type": "code",
   "execution_count": 106,
   "metadata": {},
   "outputs": [],
   "source": [
    "#평균을 잡는 average cluster가 성능이 우수하다.\n",
    "average_clustering = AgglomerativeClustering(n_clusters=3, linkage='average')"
   ]
  },
  {
   "cell_type": "markdown",
   "metadata": {},
   "source": [
    "#### 2) 모델 학습하기 (클러스터링을 통한 중심점 찾기)"
   ]
  },
  {
   "cell_type": "code",
   "execution_count": 107,
   "metadata": {},
   "outputs": [
    {
     "data": {
      "text/plain": [
       "AgglomerativeClustering(linkage='average', n_clusters=3)"
      ]
     },
     "execution_count": 107,
     "metadata": {},
     "output_type": "execute_result"
    }
   ],
   "source": [
    "average_clustering.fit(data)"
   ]
  },
  {
   "cell_type": "markdown",
   "metadata": {},
   "source": [
    "#### 3) 클러스터 할당"
   ]
  },
  {
   "cell_type": "code",
   "execution_count": 108,
   "metadata": {},
   "outputs": [],
   "source": [
    "average_cluster = average_clustering.labels_"
   ]
  },
  {
   "cell_type": "markdown",
   "metadata": {},
   "source": [
    "#### 4) 결과 살펴보기\n",
    "* 산점도"
   ]
  },
  {
   "cell_type": "code",
   "execution_count": 110,
   "metadata": {},
   "outputs": [
    {
     "data": {
      "image/png": "[encoded data removed]",
      "text/plain": [
       "<Figure size 432x288 with 1 Axes>"
      ]
     },
     "metadata": {
      "needs_background": "light"
     },
     "output_type": "display_data"
    },
    {
     "data": {
      "image/png": "[encoded data removed]",
      "text/plain": [
       "<Figure size 432x288 with 1 Axes>"
      ]
     },
     "metadata": {
      "needs_background": "light"
     },
     "output_type": "display_data"
    }
   ],
   "source": [
    "plt.scatter(data[:,0], data[:,1], c=complete_cluster)\n",
    "plt.title('Sklearn Complete Linkage Hierarchical Clustering')\n",
    "plt.show()\n",
    "# single linkage보다는 균형잡혀 있다. 노이즈에 강한 특징이 있다.\n",
    "\n",
    "plt.scatter(data[:,0], data[:,1], c=average_cluster)\n",
    "plt.title('Sklearn Average Linkage Hierarchical Clustering')\n",
    "plt.show()\n",
    "# complete보다 더 balance하다."
   ]
  },
  {
   "cell_type": "markdown",
   "metadata": {},
   "source": [
    "* 덴드로그램"
   ]
  },
  {
   "cell_type": "code",
   "execution_count": null,
   "metadata": {},
   "outputs": [],
   "source": [
    "from scipy.cluster.hierarchy import dendrogram\n",
    "plt.figure(figsize=(10,10))\n",
    "\n",
    "# Hierarchical Clustering의 자식 노드\n",
    "children = average_clustering.children_\n",
    "\n",
    "# 각 자식 노드간의 거리 정보를 가지고 있지 않기 때문에, 균일하게 그리도록 합니다.\n",
    "distance = np.arange(children.shape[0])\n",
    "\n",
    "# 각 클러스터 단계를 포함한 노드의 수 계산\n",
    "no_of_observations = np.arange(2, children.shape[0]+2)\n",
    "\n",
    "# 덴드로그램을 그리기위한 연결 매트릭스를 생성합니다.\n",
    "linkage_matrix = np.column_stack([children, distance, no_of_observations]).astype(float)\n",
    "\n",
    "# 덴드로그램을 그립니다.\n",
    "dendrogram(linkage_matrix, p = len(data), labels = average_cluster, \n",
    "           show_contracted=True, no_labels = True, )\n",
    "plt.show()"
   ]
  },
  {
   "cell_type": "markdown",
   "metadata": {},
   "source": [
    "### 클러스터링 결과 비교하기\n",
    "1. Single Linkage\n",
    "    + 두 클러스터 내의 가장 가까운 점을 기준으로 클러스터를 합치기 클러스터 사이의 노이즈에 매우 민감한 특성과 구 형태가 아닌 데이터에 대해 클러스터를 잘 형성한다는 특성이 있습니다.\n",
    "    + wine 데이터는 모든 데이터가 연결되어 있는 듯한 분포를 가지고 있기 때문에, 각 클러스터의 경계가 모호한 노이즈가 많은 형태를 띠고 있습니다. <br>Single Linkage가 구 형태가 아닌 데이터에 대해 클러스터를 잘 형성한다는 특성이 있지만, 이러한 데이터의 경우 Single Linkage 방법을 사용하면 좋은 클러스터를 생성하기 어렵습니다."
   ]
  },
  {
   "cell_type": "code",
   "execution_count": null,
   "metadata": {},
   "outputs": [],
   "source": [
    "plt.figure(figsize=(5,4))\n",
    "\n",
    "plt.scatter(data[:,0], data[:,1], c=single_cluster)\n",
    "plt.title('Sklearn Single Linkage Hierarchical Clustering')\n",
    "plt.show()"
   ]
  },
  {
   "cell_type": "markdown",
   "metadata": {},
   "source": [
    "2. Complete Linkage\n",
    "    + 두 클러스터 내에 가장 먼 점을 기준으로 클러스터를 합치기 때문에 클러스터 사이의 노이즈와 이상치에 민감하지 않은 특성이 있습니다.\n",
    "    + 노이즈에 민감하지 않다는 특성을 가진 Complete Linkage가 좋은 성능을 보여주었습니다. \n",
    "3. Average Linkage\n",
    "    + Single Linkage와 Complete Linkage의 중간쯤에 위치한 Average Linkage가 가장 정답에 가까운 클러스터를 형성한 것을 확인할 수 있습니다. "
   ]
  },
  {
   "cell_type": "code",
   "execution_count": null,
   "metadata": {},
   "outputs": [],
   "source": [
    "plt.figure(figsize=(10,4))\n",
    "\n",
    "plt.subplot(1, 2, 1)\n",
    "plt.scatter(data[:,0], data[:,1], c=complete_cluster)\n",
    "plt.title('Sklearn Complete Linkage Hierarchical Clustering')\n",
    "\n",
    "plt.subplot(1, 2, 2)\n",
    "plt.scatter(data[:,0], data[:,1], c=average_cluster)\n",
    "plt.title('Sklearn Average Linkage Hierarchical Clustering')\n",
    "plt.show()"
   ]
  },
  {
   "cell_type": "markdown",
   "metadata": {},
   "source": [
    "## Evaluation\n",
    "### Silhouette\n",
    "+ 실루엣 값은 한 클러스터 안의 데이터들이 다른 클러스터와 비교해서 얼마나 비슷한가를 나타냅니다.<br>\n",
    "+ 같은 클러스터 내의 점들간 거리는 가깝고(cohesion) 서로 다른 클러스터 간의 거리는 멀수록(separation) 높은 값을 얻을 수 있습니다.<br>\n",
    "+ 실루엣 값이 1에 근접한다는 것은 같은 클러스터 내의 평균거리가 다른 클러스터와의 평균거리보다 가깝다는 것을 의미합니다.\n",
    "+ 일반적으로 실루엣 값이 0.5보다 크다면 데이터가 잘 클러스터링 되었다는 것을 나타냅니다.\n",
    "\n",
    "실루엣 공식은 다음과 같습니다.\n",
    "$$ S_i = { {(b_i - a_i)} \\over max(a_i, b_i) }$$\n",
    "\n",
    "$$ a_i\\ :\\ 같은\\ 클러스터\\ 내의\\ 모든\\ 점들\\ 간\\ 평균\\ 거리 $$\n",
    "$$ b_i\\ :\\ \\bar d\\ =\\ (i,c)의\\ 최솟값 $$\n",
    "$$ \\bar d\\ =\\ (i,c)\\ :\\ 다른\\ 클러스터\\ c와\\ i번째 데이터 와의\\ 평균\\ 거리$$\n",
    "<br>\n",
    "\n",
    "직관적으로 수식을 이해해보겠습니다. a<sub>i</sub>는 같은 클러스터 내의 데이터 들이 잘 모여있다면 적은 값을 나타내고, b<sub>i</sub>는 각 클러스터들이 멀리 떨어져있다면 큰 값을 나타내게 됩니다.<br>\n",
    "따라서 수식 S<sub>i</sub>에 따르면, 아주 잘 형성된(같은 클러스터는 가깝고 다른 클러스터끼리는 먼) 클러스터 형태일 때 분모는 b<sub>i</sub>이 되고,<br> 분자는 b<sub>i</sub>에서 아주 작은 값인 a<sub>i</sub>가 빠져 1에 가까운 실루엣 값을 얻을 수 있습니다."
   ]
  },
  {
   "cell_type": "markdown",
   "metadata": {},
   "source": [
    "#### 가장 좋은 클러스터를 형성하는 클러스터의 수를 찾아보자\n",
    "k-means 클러스터링과 Average Linkage를 사용한 Hierarchical 클러스터링에서 가장 높은 점수의 클러스터 수는 무엇인지 알아보겠습니다.\n",
    "\n",
    "Silhouette 스코어링은 Sklearn의 metrics 패키지에 있습니다."
   ]
  },
  {
   "cell_type": "markdown",
   "metadata": {},
   "source": [
    "#### 1) k-means"
   ]
  },
  {
   "cell_type": "code",
   "execution_count": 131,
   "metadata": {},
   "outputs": [],
   "source": [
    "from sklearn.metrics import silhouette_score"
   ]
  },
  {
   "cell_type": "code",
   "execution_count": 132,
   "metadata": {},
   "outputs": [
    {
     "name": "stdout",
     "output_type": "stream",
     "text": [
      "클러스터의 수 : 2, 실루엣 점수 : 0.46\n",
      "클러스터의 수 : 3, 실루엣 점수 : 0.58\n",
      "클러스터의 수 : 4, 실루엣 점수 : 0.50\n",
      "클러스터의 수 : 5, 실루엣 점수 : 0.44\n",
      "클러스터의 수 : 6, 실루엣 점수 : 0.44\n",
      "클러스터의 수 : 7, 실루엣 점수 : 0.42\n",
      "클러스터의 수 : 8, 실루엣 점수 : 0.40\n",
      "클러스터의 수 : 9, 실루엣 점수 : 0.42\n",
      "클러스터의 수 : 10, 실루엣 점수 : 0.38\n",
      "가장 높은 실루엣 점수를 가진 클러스터 수 : 3, 실루엣 점수 : 0.58\n"
     ]
    }
   ],
   "source": [
    "best_n = 1\n",
    "best_score = -1\n",
    "\n",
    "for n_cluster in range(2, 11):\n",
    "    kmeans = KMeans(n_clusters=n_cluster)\n",
    "    kmeans.fit(data)\n",
    "    cluster = kmeans.predict(data)\n",
    "    score = silhouette_score(data, cluster)\n",
    "    \n",
    "    print('클러스터의 수 : {}, 실루엣 점수 : {:.2f}'.format(n_cluster, score))\n",
    "    if score > best_score :\n",
    "        best_n = n_cluster\n",
    "        best_score = score\n",
    "        \n",
    "print('가장 높은 실루엣 점수를 가진 클러스터 수 : {}, 실루엣 점수 : {:.2f}'.format(best_n, best_score))"
   ]
  },
  {
   "cell_type": "markdown",
   "metadata": {},
   "source": [
    "#### 2) Average Linkage Hierarchical Clustering"
   ]
  },
  {
   "cell_type": "code",
   "execution_count": 133,
   "metadata": {},
   "outputs": [
    {
     "name": "stdout",
     "output_type": "stream",
     "text": [
      "클러스터의 수 : 2, 실루엣 점수 : 0.47\n",
      "클러스터의 수 : 3, 실루엣 점수 : 0.57\n",
      "클러스터의 수 : 4, 실루엣 점수 : 0.51\n",
      "클러스터의 수 : 5, 실루엣 점수 : 0.44\n",
      "클러스터의 수 : 6, 실루엣 점수 : 0.35\n",
      "클러스터의 수 : 7, 실루엣 점수 : 0.32\n",
      "클러스터의 수 : 8, 실루엣 점수 : 0.34\n",
      "클러스터의 수 : 9, 실루엣 점수 : 0.37\n",
      "클러스터의 수 : 10, 실루엣 점수 : 0.39\n",
      "가장 높은 실루엣 점수를 가진 클러스터의 수 : 3, 실루엣 점수: 0.57\n"
     ]
    }
   ],
   "source": [
    "from sklearn.metrics import silhouette_score\n",
    "\n",
    "best_n =1\n",
    "best_score = -1\n",
    "\n",
    "for n_cluster in range(2,11):#클러스터의 개수를 2개부터 11개일 때까지 높여본다.\n",
    "    average_clustering = AgglomerativeClustering(n_clusters=n_cluster, linkage='average')\n",
    "    average_clustering.fit(data)\n",
    "    cluster = average_clustering.labels_\n",
    "    score = silhouette_score(data, cluster)#유클르디안 방식 사용\n",
    "    \n",
    "    print('클러스터의 수 : {}, 실루엣 점수 : {:.2f}'.format(n_cluster, score))\n",
    "    if score>best_score:\n",
    "        best_n = n_cluster\n",
    "        best_score = score\n",
    "\n",
    "print('가장 높은 실루엣 점수를 가진 클러스터의 수 : {}, 실루엣 점수: {:.2f}'.format(best_n, best_score))\n",
    "#0.5이상이면 클러스터링이 잘 된 것이다. 3번으로 간다.\n",
    "#.2f는 숫자가 들어올 시 자릿수를 두자리수로 제한함을 의미 한다."
   ]
  },
  {
   "cell_type": "markdown",
   "metadata": {},
   "source": [
    "### Reference\n",
    "- Wikipedia, Clustering : https://ko.wikipedia.org/wiki/클러스터_분석\n",
    "- Wikipedia, Manhattan distance : https://ko.wikipedia.org/wiki/맨해튼_거리\n",
    "- Wikipedia, Euclidean distance : https://ko.wikipedia.org/wiki/유클리드_거리\n",
    "- Sklearn, Wine dataset : https://scikit-learn.org/stable/modules/generated/sklearn.datasets.load_wine.html\n",
    "- Sklearn, k-Means Clustering : https://scikit-learn.org/stable/modules/generated/sklearn.cluster.KMeans.html\n",
    "- Sklearn, Hierarchical Clustering : https://www.google.com/url?q=http://scikit-learn.org/stable/modules/generated/sklearn.cluster.AgglomerativeClustering.html&sa=U&ved=0ahUKEwj_2aiGvt7hAhXLi7wKHei8CNsQFggEMAA&client=internal-uds-cse&cx=016639176250731907682:tjtqbvtvij0&usg=AOvVaw0zVZAVTxgORo-7LbgrNv_o\n",
    "- Sklearn, Silhouette : https://www.google.com/url?q=http://scikit-learn.org/stable/modules/generated/sklearn.metrics.silhouette_score.html&sa=U&ved=0ahUKEwi5lrTZwd7hAhUqCqYKHWCZCTEQFggEMAA&client=internal-uds-cse&cx=016639176250731907682:tjtqbvtvij0&usg=AOvVaw0-ZT8AJZRmR-qNpN-62Ei-\n",
    "- Sklearn, Silhouette Example : https://scikit-learn.org/stable/auto_examples/cluster/plot_kmeans_silhouette_analysis.html#sphx-glr-auto-examples-cluster-plot-kmeans-silhouette-analysis-py\n",
    "- Scipy, Dendrogram : https://docs.scipy.org/doc/scipy-0.14.0/reference/generated/scipy.cluster.hierarchy.dendrogram.html"
   ]
  },
  {
   "cell_type": "code",
   "execution_count": null,
   "metadata": {},
   "outputs": [],
   "source": []
  },
  {
   "cell_type": "code",
   "execution_count": null,
   "metadata": {},
   "outputs": [],
   "source": []
  },
  {
   "cell_type": "code",
   "execution_count": null,
   "metadata": {},
   "outputs": [],
   "source": []
  }
 ],
 "metadata": {
  "colab": {
   "collapsed_sections": [],
   "name": "Lab_02) Clustering.ipynb",
   "provenance": [],
   "version": "0.3.2"
  },
  "kernelspec": {
   "display_name": "Python 3",
   "language": "python",
   "name": "python3"
  },
  "language_info": {
   "codemirror_mode": {
    "name": "ipython",
    "version": 3
   },
   "file_extension": ".py",
   "mimetype": "text/x-python",
   "name": "python",
   "nbconvert_exporter": "python",
   "pygments_lexer": "ipython3",
   "version": "3.6.13"
  }
 },
 "nbformat": 4,
 "nbformat_minor": 2
}
